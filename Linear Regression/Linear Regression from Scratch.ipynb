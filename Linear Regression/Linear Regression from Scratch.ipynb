{
 "cells": [
  {
   "cell_type": "code",
   "execution_count": 45,
   "metadata": {},
   "outputs": [],
   "source": [
    "import numpy as np\n",
    "from sklearn.model_selection import train_test_split"
   ]
  },
  {
   "cell_type": "code",
   "execution_count": 46,
   "metadata": {},
   "outputs": [],
   "source": [
    "data  = np.loadtxt(\"../datasets/data.csv\",delimiter=',')"
   ]
  },
  {
   "cell_type": "code",
   "execution_count": 47,
   "metadata": {},
   "outputs": [],
   "source": [
    "x = data[:,0]\n",
    "y = data[:,1]\n",
    "X_train,X_test,y_train,y_test = train_test_split(x,y)"
   ]
  },
  {
   "cell_type": "markdown",
   "metadata": {},
   "source": [
    "### From scratch implementation"
   ]
  },
  {
   "cell_type": "code",
   "execution_count": 48,
   "metadata": {},
   "outputs": [],
   "source": [
    "def fit(X_train,y_train):\n",
    "    num  = (X_train*y_train).mean() - X_train.mean()*y_train.mean()\n",
    "    deno = (X_train**2).mean() - X_train.mean()**2\n",
    "    m    = num/deno\n",
    "    c    = y_train.mean()-(m*X_train.mean())\n",
    "    return m,c"
   ]
  },
  {
   "cell_type": "code",
   "execution_count": 49,
   "metadata": {},
   "outputs": [],
   "source": [
    "def predict(x,m,c):\n",
    "    return m*x+c"
   ]
  },
  {
   "cell_type": "code",
   "execution_count": 50,
   "metadata": {},
   "outputs": [],
   "source": [
    "def score(y_true,y_pred):\n",
    "    u = ((y_true-y_pred)**2).sum()\n",
    "    v = ((y_true-(y_true.mean()))**2).sum()\n",
    "    return 1 -(u/v)"
   ]
  },
  {
   "cell_type": "code",
   "execution_count": 51,
   "metadata": {},
   "outputs": [],
   "source": [
    "def cost(x,y,m,c):\n",
    "    return ((y-(m*x+c))**2).mean()"
   ]
  },
  {
   "cell_type": "code",
   "execution_count": 52,
   "metadata": {},
   "outputs": [
    {
     "name": "stdout",
     "output_type": "stream",
     "text": [
      "Score on training data: 0.563562295309294\n",
      "Score on testing data: 0.6478679200661972\n",
      "M(slope): 1.3364076870104948 C(intercept): 8.076711405046566\n",
      "Cost Function on training data: 112.42946928230148\n"
     ]
    }
   ],
   "source": [
    "m,c = fit(X_train,y_train)\n",
    "y_pred_training = predict(X_train,m,c)\n",
    "print(\"Score on training data:\",score(y_train,y_pred_training))\n",
    "\n",
    "y_pred_testing = predict(X_test,m,c)\n",
    "print(\"Score on testing data:\",score(y_test,y_pred_testing))\n",
    "\n",
    "print(\"M(slope):\",m,\"C(intercept):\",c)\n",
    "\n",
    "print(\"Cost Function on training data:\",cost(X_train,y_train,m,c))"
   ]
  },
  {
   "cell_type": "markdown",
   "metadata": {},
   "source": [
    "### Comparing the result from the linear regression inbuilt classifier"
   ]
  },
  {
   "cell_type": "code",
   "execution_count": 53,
   "metadata": {},
   "outputs": [],
   "source": [
    "from sklearn.linear_model import LinearRegression"
   ]
  },
  {
   "cell_type": "code",
   "execution_count": 54,
   "metadata": {},
   "outputs": [
    {
     "data": {
      "text/plain": [
       "LinearRegression()"
      ]
     },
     "execution_count": 54,
     "metadata": {},
     "output_type": "execute_result"
    }
   ],
   "source": [
    "linearModel = LinearRegression()\n",
    "linearModel.fit(X_train.reshape(-1,1),y_train)"
   ]
  },
  {
   "cell_type": "code",
   "execution_count": 55,
   "metadata": {},
   "outputs": [],
   "source": [
    "y_predict = linearModel.predict(X_test.reshape(-1,1))"
   ]
  },
  {
   "cell_type": "code",
   "execution_count": 57,
   "metadata": {},
   "outputs": [
    {
     "name": "stdout",
     "output_type": "stream",
     "text": [
      "Score on testing data: 0.6478679200661974\n",
      "M(Slope): [1.33640769]\n",
      "Intercept: 8.076711405046865\n"
     ]
    }
   ],
   "source": [
    "print(\"Score on testing data:\",score(y_test,y_predict))\n",
    "print(\"M(Slope):\",linearModel.coef_)\n",
    "print(\"Intercept:\",linearModel.intercept_)"
   ]
  },
  {
   "cell_type": "code",
   "execution_count": null,
   "metadata": {},
   "outputs": [],
   "source": []
  }
 ],
 "metadata": {
  "kernelspec": {
   "display_name": "Python 3",
   "language": "python",
   "name": "python3"
  },
  "language_info": {
   "codemirror_mode": {
    "name": "ipython",
    "version": 3
   },
   "file_extension": ".py",
   "mimetype": "text/x-python",
   "name": "python",
   "nbconvert_exporter": "python",
   "pygments_lexer": "ipython3",
   "version": "3.8.3"
  }
 },
 "nbformat": 4,
 "nbformat_minor": 4
}
