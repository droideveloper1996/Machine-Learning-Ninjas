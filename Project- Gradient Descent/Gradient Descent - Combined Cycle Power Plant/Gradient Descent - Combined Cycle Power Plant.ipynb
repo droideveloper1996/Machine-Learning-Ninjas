{
 "cells": [
  {
   "cell_type": "code",
   "execution_count": 62,
   "metadata": {},
   "outputs": [],
   "source": [
    "import numpy as np\n",
    "import pandas as pd\n",
    "import warnings\n",
    "from sklearn import preprocessing\n",
    "warnings.filterwarnings(\"ignore\")\n",
    "from sklearn.model_selection import train_test_split"
   ]
  },
  {
   "cell_type": "code",
   "execution_count": 66,
   "metadata": {},
   "outputs": [],
   "source": [
    "def step_gradient(X,y,learning_rate,no_of_iteration,m):\n",
    "    \n",
    "    M = X.shape[0] #row\n",
    "    N = X.shape[1] #col\n",
    "    \n",
    "    m_slope = np.zeros(N)\n",
    "    for i in range(M):\n",
    "        x = X[i]\n",
    "        y_pred = (m*x).sum()\n",
    "        for j in range(N):\n",
    "            m_slope[j]+= (-2/M)*(y[i]-y_pred)*x[j]\n",
    "    m = m-learning_rate*m_slope\n",
    "    #print(m)\n",
    "    return m\n",
    "    \n",
    "def cost(X, Y, m):\n",
    "    return ((Y - np.sum(m*X, axis = 1))**2).mean()\n",
    "    \n",
    "\n",
    "def gradient_descent(x_train,y_train,learning_rate,no_of_iteration):\n",
    "    m  = np.zeros(x_train.shape[1])\n",
    "    for i in range(no_of_iteration):\n",
    "        m = step_gradient(x_train,y_train,learning_rate,no_of_iteration,m)\n",
    "        print(i+1, \" Cost: \", cost(x_train,y_train, m))  \n",
    "    return m\n",
    "    \n",
    "\n",
    "def predict(X, m):\n",
    "    return np.sum(m*X, axis = 1)\n"
   ]
  },
  {
   "cell_type": "code",
   "execution_count": 67,
   "metadata": {},
   "outputs": [
    {
     "name": "stdout",
     "output_type": "stream",
     "text": [
      "[[  11.95   42.03 1017.58   90.89]\n",
      " [  12.07   38.25 1012.67   81.66]\n",
      " [  26.91   74.99 1005.64   78.98]\n",
      " ...\n",
      " [  24.32   66.25 1009.09   91.89]\n",
      " [  23.49   42.8  1013.96   65.31]\n",
      " [  21.76   60.27 1018.96   85.06]]\n",
      "X_test\n",
      "[[1.19500e+01 4.20300e+01 1.01758e+03 9.08900e+01 1.00000e+00]\n",
      " [1.20700e+01 3.82500e+01 1.01267e+03 8.16600e+01 1.00000e+00]\n",
      " [2.69100e+01 7.49900e+01 1.00564e+03 7.89800e+01 1.00000e+00]\n",
      " ...\n",
      " [2.43200e+01 6.62500e+01 1.00909e+03 9.18900e+01 1.00000e+00]\n",
      " [2.34900e+01 4.28000e+01 1.01396e+03 6.53100e+01 1.00000e+00]\n",
      " [2.17600e+01 6.02700e+01 1.01896e+03 8.50600e+01 1.00000e+00]]\n",
      "1  Cost:  8772344518.631067\n",
      "2  Cost:  372580082470001.2\n",
      "3  Cost:  1.5824266969013443e+19\n",
      "4  Cost:  6.720902079539372e+23\n",
      "5  Cost:  2.8545097761057653e+28\n",
      "6  Cost:  1.2123708938848012e+33\n",
      "7  Cost:  5.149196533298462e+37\n",
      "8  Cost:  2.186973068412523e+42\n",
      "9  Cost:  9.288538844909722e+46\n",
      "10  Cost:  3.945039612948826e+51\n",
      "[[-6.31027106e+25]\n",
      " [-6.27475794e+25]\n",
      " [-6.24421441e+25]\n",
      " ...\n",
      " [-6.26797493e+25]\n",
      " [-6.27827372e+25]\n",
      " [-6.32333185e+25]]\n"
     ]
    }
   ],
   "source": [
    "def run():\n",
    "    data            = np.genfromtxt(\"./0000000000002419_training_ccpp_x_y_train.csv\",delimiter=\",\")\n",
    "    testing         = np.genfromtxt(\"./0000000000002419_test_ccpp_x_test.csv\",delimiter=\",\")\n",
    "    no_of_iteration = 10\n",
    "    learning_rate   = 0.0001 \n",
    "    x_train,y_train = data[:,:-1],data[:,-1]\n",
    "    #print(x_train)\n",
    "    print(testing)\n",
    "    #np.savetxt(\"x_train.csv\",x_train)\n",
    "    #print(yesting.shape)\n",
    "    x_train = np.insert(x_train, x_train.shape[1], 1, axis = 1)  # this is for c , \"1\" column \n",
    "    #print(\"X_train--\")\n",
    "    #print(x_train)\n",
    "    x_test  = np.insert(testing, testing.shape[1], 1, axis = 1)\n",
    "    print(\"X_test\")\n",
    "    print(x_test)\n",
    "    \n",
    "    m = gradient_descent(x_train,y_train,learning_rate,no_of_iteration)\n",
    "    #print(x_test.shape,m.shape)\n",
    "    y_pred = predict(x_test,m)\n",
    "    y_pred = y_pred.reshape(x_test.shape[0],1)\n",
    "    print(y_pred)\n",
    "    np.savetxt(\"output.csv\",y_pred,fmt=\"%.5f\")\n",
    "    \n",
    "run()"
   ]
  },
  {
   "cell_type": "markdown",
   "metadata": {},
   "source": [
    "## Using inbuilt classifier"
   ]
  },
  {
   "cell_type": "code",
   "execution_count": 101,
   "metadata": {},
   "outputs": [],
   "source": [
    "training_data  = np.genfromtxt(\"./0000000000002419_training_ccpp_x_y_train.csv\",delimiter=\",\")\n",
    "testing        = np.genfromtxt(\"./0000000000002419_test_ccpp_x_test.csv\",delimiter=\",\")"
   ]
  },
  {
   "cell_type": "code",
   "execution_count": 102,
   "metadata": {},
   "outputs": [
    {
     "data": {
      "text/plain": [
       "((7176, 5), (2392, 4))"
      ]
     },
     "execution_count": 102,
     "metadata": {},
     "output_type": "execute_result"
    }
   ],
   "source": [
    "training_data.shape,testing.shape"
   ]
  },
  {
   "cell_type": "code",
   "execution_count": 103,
   "metadata": {},
   "outputs": [
    {
     "data": {
      "text/plain": [
       "(7176, 4)"
      ]
     },
     "execution_count": 103,
     "metadata": {},
     "output_type": "execute_result"
    }
   ],
   "source": [
    "X_train = training_data[:,:-1]\n",
    "X_train.shape"
   ]
  },
  {
   "cell_type": "code",
   "execution_count": 104,
   "metadata": {},
   "outputs": [
    {
     "data": {
      "text/plain": [
       "(7176,)"
      ]
     },
     "execution_count": 104,
     "metadata": {},
     "output_type": "execute_result"
    }
   ],
   "source": [
    "y_train = training_data[:,-1]\n",
    "y_train.shape"
   ]
  },
  {
   "cell_type": "code",
   "execution_count": 105,
   "metadata": {},
   "outputs": [],
   "source": [
    "x_test = testing"
   ]
  },
  {
   "cell_type": "code",
   "execution_count": 118,
   "metadata": {},
   "outputs": [],
   "source": [
    "from sklearn import preprocessing\n",
    "std_scalar = preprocessing.StandardScaler()\n",
    "X_train = std_scalar.fit_transform(X_train,y_train)\n",
    "x_test = std_scalar.transform(x_test)"
   ]
  },
  {
   "cell_type": "code",
   "execution_count": 119,
   "metadata": {},
   "outputs": [],
   "source": [
    "from sklearn.linear_model import LinearRegression"
   ]
  },
  {
   "cell_type": "code",
   "execution_count": 120,
   "metadata": {},
   "outputs": [],
   "source": [
    "lr = LinearRegression()"
   ]
  },
  {
   "cell_type": "code",
   "execution_count": 121,
   "metadata": {},
   "outputs": [
    {
     "data": {
      "text/plain": [
       "LinearRegression()"
      ]
     },
     "execution_count": 121,
     "metadata": {},
     "output_type": "execute_result"
    }
   ],
   "source": [
    "lr.fit(X_train,y_train)"
   ]
  },
  {
   "cell_type": "code",
   "execution_count": 122,
   "metadata": {},
   "outputs": [],
   "source": [
    "y_pred = lr.predict(x_test)"
   ]
  },
  {
   "cell_type": "code",
   "execution_count": 123,
   "metadata": {},
   "outputs": [
    {
     "data": {
      "text/plain": [
       "0.9287632000440599"
      ]
     },
     "execution_count": 123,
     "metadata": {},
     "output_type": "execute_result"
    }
   ],
   "source": [
    "lr.score(X_train,y_train)"
   ]
  },
  {
   "cell_type": "code",
   "execution_count": 124,
   "metadata": {},
   "outputs": [],
   "source": [
    "np.savetxt(\"output.csv\",y_pred,fmt=\"%.5f\")"
   ]
  },
  {
   "cell_type": "code",
   "execution_count": null,
   "metadata": {},
   "outputs": [],
   "source": []
  }
 ],
 "metadata": {
  "kernelspec": {
   "display_name": "Python 3",
   "language": "python",
   "name": "python3"
  },
  "language_info": {
   "codemirror_mode": {
    "name": "ipython",
    "version": 3
   },
   "file_extension": ".py",
   "mimetype": "text/x-python",
   "name": "python",
   "nbconvert_exporter": "python",
   "pygments_lexer": "ipython3",
   "version": "3.8.3"
  }
 },
 "nbformat": 4,
 "nbformat_minor": 4
}
