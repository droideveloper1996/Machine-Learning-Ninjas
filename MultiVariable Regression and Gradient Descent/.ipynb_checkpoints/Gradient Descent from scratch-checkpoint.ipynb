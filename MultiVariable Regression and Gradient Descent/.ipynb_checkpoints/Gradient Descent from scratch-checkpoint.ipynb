{
 "cells": [
  {
   "cell_type": "markdown",
   "metadata": {},
   "source": [
    "#### Gradient Descent things to be needed :\n",
    "m' = m - slope(w.r.t -->m)\n",
    "c  = c - slope(w.r.t -->c)\n",
    "\n",
    "cost = \n",
    "slope(wrt m) - partial diff cost w.r.t m --> 2/n sigma (y-(mx+c)) *(-x)\n",
    "slope(wrt c) - partial diff cost w.r.t c --> 2/n sigma (y-(mx+c)) * (-1)\n",
    "\n",
    "\n"
   ]
  },
  {
   "cell_type": "code",
   "execution_count": 66,
   "metadata": {},
   "outputs": [],
   "source": [
    "def step_gradient(learning_rate,no_of_iterations,data,m,c):\n",
    "    N = len(data)\n",
    "    m_slope = 0\n",
    "    c_slope = 0\n",
    "    for i in range(N):   # this loops works as sigma of formula\n",
    "        x = data[i,0]    # selecting x(i) and y(i) for iterations\n",
    "        y = data[i,1]\n",
    "        m_slope = (2/N) * (y-(m*x +c)) * (-x)  # slope(w.r.t m)\n",
    "        c_slope = (2/N) * (y-(m*x +c)) * (-1)  # slope(w.r.t c)\n",
    "        \n",
    "    new_slope  = m - learning_rate * m_slope\n",
    "    new_c      = m - learning_rate * c_slope\n",
    "    return new_slope,new_c\n",
    "        "
   ]
  },
  {
   "cell_type": "code",
   "execution_count": 67,
   "metadata": {},
   "outputs": [],
   "source": [
    "def cost(m,c,data):\n",
    "    N = len(data)\n",
    "    total_cost = 0\n",
    "    for i in range(N):\n",
    "        x = data[i,0]\n",
    "        y = data[i,1]\n",
    "        total_cost +=(1/N)*(y-(m*x+c)**2)\n",
    "    return total_cost"
   ]
  },
  {
   "cell_type": "code",
   "execution_count": 68,
   "metadata": {},
   "outputs": [],
   "source": [
    "def gradient_descent(learning_rate,no_of_iterations,data):\n",
    "    m = 0 # starting from random values of m and c\n",
    "    c = 0\n",
    "    for i in range(no_of_iterations):\n",
    "        m,c = step_gradient(learning_rate,no_of_iterations,data,m,c) # for every steps\n",
    "        print(\"iteration-\",i,\":\",cost(m,c,data))\n",
    "    return m,c\n",
    "    "
   ]
  },
  {
   "cell_type": "code",
   "execution_count": 69,
   "metadata": {},
   "outputs": [],
   "source": [
    "import numpy as np\n",
    "def run():\n",
    "    data = np.loadtxt(\"../datasets/data.csv\",delimiter=\",\")\n",
    "    learning_rate    = 0.00001\n",
    "    no_of_iterations = 100\n",
    "    m,c = gradient_descent(learning_rate,no_of_iterations,data)\n",
    "    print(\"m:\",m,\"c:\",c)"
   ]
  },
  {
   "cell_type": "code",
   "execution_count": 70,
   "metadata": {},
   "outputs": [
    {
     "name": "stdout",
     "output_type": "stream",
     "text": [
      "iteration- 0 : 72.73487049855918\n",
      "iteration- 1 : 72.73431677662369\n",
      "iteration- 2 : 72.73338946841898\n",
      "iteration- 3 : 72.73208872116231\n",
      "iteration- 4 : 72.73041468199311\n",
      "iteration- 5 : 72.7283674980058\n",
      "iteration- 6 : 72.72594731624942\n",
      "iteration- 7 : 72.72315428372838\n",
      "iteration- 8 : 72.71998854740168\n",
      "iteration- 9 : 72.71645025418344\n",
      "iteration- 10 : 72.71253955094278\n",
      "iteration- 11 : 72.7082565845038\n",
      "iteration- 12 : 72.70360150164552\n",
      "iteration- 13 : 72.69857444910214\n",
      "iteration- 14 : 72.69317557356266\n",
      "iteration- 15 : 72.68740502167134\n",
      "iteration- 16 : 72.68126294002737\n",
      "iteration- 17 : 72.67474947518515\n",
      "iteration- 18 : 72.66786477365385\n",
      "iteration- 19 : 72.66060898189822\n",
      "iteration- 20 : 72.65298224633752\n",
      "iteration- 21 : 72.64498471334673\n",
      "iteration- 22 : 72.63661652925548\n",
      "iteration- 23 : 72.62787784034884\n",
      "iteration- 24 : 72.61876879286693\n",
      "iteration- 25 : 72.60928953300504\n",
      "iteration- 26 : 72.59944020691356\n",
      "iteration- 27 : 72.58922096069824\n",
      "iteration- 28 : 72.57863194041995\n",
      "iteration- 29 : 72.56767329209485\n",
      "iteration- 30 : 72.55634516169418\n",
      "iteration- 31 : 72.5446476951445\n",
      "iteration- 32 : 72.53258103832769\n",
      "iteration- 33 : 72.52014533708085\n",
      "iteration- 34 : 72.50734073719639\n",
      "iteration- 35 : 72.49416738442187\n",
      "iteration- 36 : 72.48062542446037\n",
      "iteration- 37 : 72.4667150029702\n",
      "iteration- 38 : 72.452436265565\n",
      "iteration- 39 : 72.43778935781366\n",
      "iteration- 40 : 72.42277442524059\n",
      "iteration- 41 : 72.40739161332564\n",
      "iteration- 42 : 72.39164106750361\n",
      "iteration- 43 : 72.37552293316521\n",
      "iteration- 44 : 72.3590373556563\n",
      "iteration- 45 : 72.34218448027812\n",
      "iteration- 46 : 72.32496445228749\n",
      "iteration- 47 : 72.30737741689663\n",
      "iteration- 48 : 72.28942351927311\n",
      "iteration- 49 : 72.27110290454009\n",
      "iteration- 50 : 72.25241571777629\n",
      "iteration- 51 : 72.23336210401565\n",
      "iteration- 52 : 72.21394220824786\n",
      "iteration- 53 : 72.1941561754181\n",
      "iteration- 54 : 72.17400415042691\n",
      "iteration- 55 : 72.15348627813061\n",
      "iteration- 56 : 72.13260270334095\n",
      "iteration- 57 : 72.11135357082529\n",
      "iteration- 58 : 72.08973902530654\n",
      "iteration- 59 : 72.0677592114632\n",
      "iteration- 60 : 72.04541427392945\n",
      "iteration- 61 : 72.02270435729501\n",
      "iteration- 62 : 71.99962960610524\n",
      "iteration- 63 : 71.97619016486122\n",
      "iteration- 64 : 71.95238617801964\n",
      "iteration- 65 : 71.92821778999287\n",
      "iteration- 66 : 71.9036851451489\n",
      "iteration- 67 : 71.87878838781148\n",
      "iteration- 68 : 71.85352766226018\n",
      "iteration- 69 : 71.82790311272997\n",
      "iteration- 70 : 71.80191488341192\n",
      "iteration- 71 : 71.77556311845262\n",
      "iteration- 72 : 71.7488479619545\n",
      "iteration- 73 : 71.72176955797565\n",
      "iteration- 74 : 71.69432805053015\n",
      "iteration- 75 : 71.66652358358769\n",
      "iteration- 76 : 71.63835630107388\n",
      "iteration- 77 : 71.60982634687005\n",
      "iteration- 78 : 71.58093386481342\n",
      "iteration- 79 : 71.55167899869714\n",
      "iteration- 80 : 71.52206189227003\n",
      "iteration- 81 : 71.49208268923694\n",
      "iteration- 82 : 71.46174153325852\n",
      "iteration- 83 : 71.43103856795136\n",
      "iteration- 84 : 71.39997393688797\n",
      "iteration- 85 : 71.36854778359661\n",
      "iteration- 86 : 71.33676025156181\n",
      "iteration- 87 : 71.3046114842237\n",
      "iteration- 88 : 71.27210162497855\n",
      "iteration- 89 : 71.23923081717861\n",
      "iteration- 90 : 71.20599920413191\n",
      "iteration- 91 : 71.17240692910282\n",
      "iteration- 92 : 71.13845413531145\n",
      "iteration- 93 : 71.10414096593394\n",
      "iteration- 94 : 71.06946756410257\n",
      "iteration- 95 : 71.03443407290573\n",
      "iteration- 96 : 70.99904063538759\n",
      "iteration- 97 : 70.96328739454859\n",
      "iteration- 98 : 70.92717449334528\n",
      "iteration- 99 : 70.89070207469021\n",
      "m: 0.026690811282304112 c: 0.026436187306684424\n"
     ]
    }
   ],
   "source": [
    "run()"
   ]
  },
  {
   "cell_type": "code",
   "execution_count": 71,
   "metadata": {},
   "outputs": [],
   "source": [
    "i = \"Hello i am shubham verma\""
   ]
  },
  {
   "cell_type": "code",
   "execution_count": null,
   "metadata": {},
   "outputs": [],
   "source": []
  },
  {
   "cell_type": "code",
   "execution_count": null,
   "metadata": {},
   "outputs": [],
   "source": []
  }
 ],
 "metadata": {
  "kernelspec": {
   "display_name": "Python 3",
   "language": "python",
   "name": "python3"
  },
  "language_info": {
   "codemirror_mode": {
    "name": "ipython",
    "version": 3
   },
   "file_extension": ".py",
   "mimetype": "text/x-python",
   "name": "python",
   "nbconvert_exporter": "python",
   "pygments_lexer": "ipython3",
   "version": "3.8.3"
  }
 },
 "nbformat": 4,
 "nbformat_minor": 4
}
