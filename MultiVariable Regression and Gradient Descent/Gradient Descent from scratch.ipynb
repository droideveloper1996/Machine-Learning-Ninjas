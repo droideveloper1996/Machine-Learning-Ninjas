{
 "cells": [
  {
   "cell_type": "markdown",
   "metadata": {},
   "source": [
    "#### Gradient Descent things to be needed :\n",
    "m' = m - slope(w.r.t -->m)\n",
    "c  = c - slope(w.r.t -->c)\n",
    "\n",
    "cost = \n",
    "slope(wrt m) - partial diff cost w.r.t m --> 2/n sigma (y-(mx+c)) *(-x)\n",
    "slope(wrt c) - partial diff cost w.r.t c --> 2/n sigma (y-(mx+c)) * (-1)\n",
    "\n"
   ]
  },
  {
   "cell_type": "code",
   "execution_count": 111,
   "metadata": {},
   "outputs": [],
   "source": [
    "def step_gradient(learning_rate,data,m,c):\n",
    "    '''\n",
    "    The cost is calculated for a machine learning algorithm over the entire training dataset for each iteration \n",
    "    of the gradient descent algorithm. In Gradient Descent, one iteration of the algorithm is called one batch, \n",
    "    which denotes the total number of samples from a dataset that is used for calculating the gradient for each \n",
    "    iteration.\n",
    "    '''\n",
    "    N = len(data)\n",
    "    m_slope = 0\n",
    "    c_slope = 0\n",
    "    \n",
    "    for i in range(N):   # this loops works as sigma of formula\n",
    "        x = data[i,0]    # selecting x(i) and y(i) for iterations\n",
    "        y = data[i,1]\n",
    "        m_slope += (2/N) * (y-(m*x +c)) * (-x)  # slope(w.r.t m) i.e cost function w.r.t -m\n",
    "        c_slope += (2/N) * (y-(m*x +c)) * (-1)  # slope(w.r.t c) i.e cost function w.r.t -c\n",
    "        \n",
    "    new_slope  = m - learning_rate * m_slope\n",
    "    new_c      = c - learning_rate * c_slope\n",
    "    return new_slope,new_c\n",
    "        "
   ]
  },
  {
   "cell_type": "code",
   "execution_count": 105,
   "metadata": {},
   "outputs": [],
   "source": [
    "def cost(m,c,data):\n",
    "    N = len(data)\n",
    "    total_cost = 0\n",
    "    for i in range(N):\n",
    "        x = data[i,0]\n",
    "        y = data[i,1]\n",
    "        total_cost +=(1/N)*((y-(m*x+c))**2)\n",
    "    return total_cost"
   ]
  },
  {
   "cell_type": "code",
   "execution_count": 106,
   "metadata": {},
   "outputs": [],
   "source": [
    "def gradient_descent(learning_rate,no_of_iterations,data):\n",
    "    '''\n",
    "    This function is used to calculate the values of m,c at of each iteration.\n",
    "    '''\n",
    "    m = 0 # starting from random values of m and c on the curve\n",
    "    c = 0\n",
    "    for i in range(no_of_iterations):\n",
    "        m,c = step_gradient(learning_rate,data,m,c) # for every steps\n",
    "        print(\"iteration-\",i,\":\",cost(m,c,data))\n",
    "    return m,c\n",
    "    "
   ]
  },
  {
   "cell_type": "code",
   "execution_count": 112,
   "metadata": {},
   "outputs": [],
   "source": [
    "import numpy as np\n",
    "def run():\n",
    "    data = np.loadtxt(\"../datasets/data.csv\",delimiter=\",\")\n",
    "    learning_rate    = 0.0001\n",
    "    no_of_iterations = 10\n",
    "    m,c = gradient_descent(learning_rate,no_of_iterations,data)\n",
    "    print(\"m:\",m,\"c:\",c)"
   ]
  },
  {
   "cell_type": "code",
   "execution_count": 113,
   "metadata": {},
   "outputs": [
    {
     "name": "stdout",
     "output_type": "stream",
     "text": [
      "iteration- 0 : 1484.5865574086483\n",
      "iteration- 1 : 457.8542575737672\n",
      "iteration- 2 : 199.5099857255389\n",
      "iteration- 3 : 134.50591058200533\n",
      "iteration- 4 : 118.14969342239951\n",
      "iteration- 5 : 114.03414906038147\n",
      "iteration- 6 : 112.99857731713661\n",
      "iteration- 7 : 112.73798187568467\n",
      "iteration- 8 : 112.67238435909104\n",
      "iteration- 9 : 112.65585181499749\n",
      "m: 1.4774173755483797 c: 0.02963934787473239\n"
     ]
    }
   ],
   "source": [
    "run()"
   ]
  },
  {
   "cell_type": "code",
   "execution_count": null,
   "metadata": {},
   "outputs": [],
   "source": []
  }
 ],
 "metadata": {
  "kernelspec": {
   "display_name": "Python 3",
   "language": "python",
   "name": "python3"
  },
  "language_info": {
   "codemirror_mode": {
    "name": "ipython",
    "version": 3
   },
   "file_extension": ".py",
   "mimetype": "text/x-python",
   "name": "python",
   "nbconvert_exporter": "python",
   "pygments_lexer": "ipython3",
   "version": "3.8.3"
  }
 },
 "nbformat": 4,
 "nbformat_minor": 4
}
